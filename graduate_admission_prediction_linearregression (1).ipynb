{
  "cells": [
    {
      "cell_type": "code",
      "execution_count": null,
      "metadata": {
        "execution": {
          "iopub.execute_input": "2021-01-17T04:58:27.856352Z",
          "iopub.status.busy": "2021-01-17T04:58:27.855627Z",
          "iopub.status.idle": "2021-01-17T04:58:29.024889Z",
          "shell.execute_reply": "2021-01-17T04:58:29.023738Z"
        },
        "papermill": {
          "duration": 1.202249,
          "end_time": "2021-01-17T04:58:29.025059",
          "exception": false,
          "start_time": "2021-01-17T04:58:27.822810",
          "status": "completed"
        },
        "tags": [],
        "id": "CVabDSbG01BB"
      },
      "outputs": [],
      "source": [
        "import numpy as np\n",
        "# Powerful n-dimensional arrays. Numerical computing tools. Interoperable:\n",
        "\n",
        "import pandas as pd\n",
        "# python powerfull library used for data manipulating and data analysis:\n",
        "\n",
        "import matplotlib.pyplot as plt\n",
        "# mayplotlib is a ploting library we can use this to make awesome graphs:\n",
        "\n",
        "import seaborn as sns\n",
        "# seaborn also a ploting library we can use this to make awesome graphs:\n",
        "\n",
        "%matplotlib inline\n",
        "# %matplotlib inline sets the backend of matplotlib to the inline:"
      ]
    },
    {
      "cell_type": "code",
      "execution_count": null,
      "metadata": {
        "execution": {
          "iopub.execute_input": "2021-01-17T04:58:29.089249Z",
          "iopub.status.busy": "2021-01-17T04:58:29.088451Z",
          "iopub.status.idle": "2021-01-17T04:58:29.303434Z",
          "shell.execute_reply": "2021-01-17T04:58:29.302835Z"
        },
        "papermill": {
          "duration": 0.249103,
          "end_time": "2021-01-17T04:58:29.303546",
          "exception": false,
          "start_time": "2021-01-17T04:58:29.054443",
          "status": "completed"
        },
        "tags": [],
        "id": "y0SDB0By01BD"
      },
      "outputs": [],
      "source": [
        "# Linear Regression Model \n",
        "from sklearn.linear_model import LinearRegression\n",
        "from sklearn.model_selection import train_test_split\n",
        "import random\n",
        "from sklearn import metrics"
      ]
    },
    {
      "cell_type": "code",
      "execution_count": null,
      "metadata": {
        "execution": {
          "iopub.execute_input": "2021-01-17T04:58:29.435459Z",
          "iopub.status.busy": "2021-01-17T04:58:29.434728Z",
          "iopub.status.idle": "2021-01-17T04:58:29.452596Z",
          "shell.execute_reply": "2021-01-17T04:58:29.451901Z"
        },
        "papermill": {
          "duration": 0.061468,
          "end_time": "2021-01-17T04:58:29.452714",
          "exception": false,
          "start_time": "2021-01-17T04:58:29.391246",
          "status": "completed"
        },
        "tags": [],
        "id": "1Mv2HqrA01BF"
      },
      "outputs": [],
      "source": [
        "# Load data:\n",
        "\n",
        "data = pd.read_csv('../input/graduate-admissions/Admission_Predict_Ver1.1.csv')"
      ]
    },
    {
      "cell_type": "code",
      "execution_count": null,
      "metadata": {
        "execution": {
          "iopub.execute_input": "2021-01-17T04:58:29.525506Z",
          "iopub.status.busy": "2021-01-17T04:58:29.524791Z",
          "iopub.status.idle": "2021-01-17T04:58:29.547667Z",
          "shell.execute_reply": "2021-01-17T04:58:29.548639Z"
        },
        "papermill": {
          "duration": 0.063216,
          "end_time": "2021-01-17T04:58:29.548947",
          "exception": false,
          "start_time": "2021-01-17T04:58:29.485731",
          "status": "completed"
        },
        "tags": [],
        "id": "n9Hzrfs401BG",
        "outputId": "798b7133-ea8b-42fe-b322-473dc073bb84"
      },
      "outputs": [
        {
          "data": {
            "text/html": [
              "<div>\n",
              "<style scoped>\n",
              "    .dataframe tbody tr th:only-of-type {\n",
              "        vertical-align: middle;\n",
              "    }\n",
              "\n",
              "    .dataframe tbody tr th {\n",
              "        vertical-align: top;\n",
              "    }\n",
              "\n",
              "    .dataframe thead th {\n",
              "        text-align: right;\n",
              "    }\n",
              "</style>\n",
              "<table border=\"1\" class=\"dataframe\">\n",
              "  <thead>\n",
              "    <tr style=\"text-align: right;\">\n",
              "      <th></th>\n",
              "      <th>Serial No.</th>\n",
              "      <th>GRE Score</th>\n",
              "      <th>TOEFL Score</th>\n",
              "      <th>University Rating</th>\n",
              "      <th>SOP</th>\n",
              "      <th>LOR</th>\n",
              "      <th>CGPA</th>\n",
              "      <th>Research</th>\n",
              "      <th>Chance of Admit</th>\n",
              "    </tr>\n",
              "  </thead>\n",
              "  <tbody>\n",
              "    <tr>\n",
              "      <th>0</th>\n",
              "      <td>1</td>\n",
              "      <td>337</td>\n",
              "      <td>118</td>\n",
              "      <td>4</td>\n",
              "      <td>4.5</td>\n",
              "      <td>4.5</td>\n",
              "      <td>9.65</td>\n",
              "      <td>1</td>\n",
              "      <td>0.92</td>\n",
              "    </tr>\n",
              "    <tr>\n",
              "      <th>1</th>\n",
              "      <td>2</td>\n",
              "      <td>324</td>\n",
              "      <td>107</td>\n",
              "      <td>4</td>\n",
              "      <td>4.0</td>\n",
              "      <td>4.5</td>\n",
              "      <td>8.87</td>\n",
              "      <td>1</td>\n",
              "      <td>0.76</td>\n",
              "    </tr>\n",
              "    <tr>\n",
              "      <th>2</th>\n",
              "      <td>3</td>\n",
              "      <td>316</td>\n",
              "      <td>104</td>\n",
              "      <td>3</td>\n",
              "      <td>3.0</td>\n",
              "      <td>3.5</td>\n",
              "      <td>8.00</td>\n",
              "      <td>1</td>\n",
              "      <td>0.72</td>\n",
              "    </tr>\n",
              "    <tr>\n",
              "      <th>3</th>\n",
              "      <td>4</td>\n",
              "      <td>322</td>\n",
              "      <td>110</td>\n",
              "      <td>3</td>\n",
              "      <td>3.5</td>\n",
              "      <td>2.5</td>\n",
              "      <td>8.67</td>\n",
              "      <td>1</td>\n",
              "      <td>0.80</td>\n",
              "    </tr>\n",
              "    <tr>\n",
              "      <th>4</th>\n",
              "      <td>5</td>\n",
              "      <td>314</td>\n",
              "      <td>103</td>\n",
              "      <td>2</td>\n",
              "      <td>2.0</td>\n",
              "      <td>3.0</td>\n",
              "      <td>8.21</td>\n",
              "      <td>0</td>\n",
              "      <td>0.65</td>\n",
              "    </tr>\n",
              "  </tbody>\n",
              "</table>\n",
              "</div>"
            ],
            "text/plain": [
              "   Serial No.  GRE Score  TOEFL Score  University Rating  SOP  LOR   CGPA  \\\n",
              "0           1        337          118                  4  4.5   4.5  9.65   \n",
              "1           2        324          107                  4  4.0   4.5  8.87   \n",
              "2           3        316          104                  3  3.0   3.5  8.00   \n",
              "3           4        322          110                  3  3.5   2.5  8.67   \n",
              "4           5        314          103                  2  2.0   3.0  8.21   \n",
              "\n",
              "   Research  Chance of Admit   \n",
              "0         1              0.92  \n",
              "1         1              0.76  \n",
              "2         1              0.72  \n",
              "3         1              0.80  \n",
              "4         0              0.65  "
            ]
          },
          "execution_count": 4,
          "metadata": {},
          "output_type": "execute_result"
        }
      ],
      "source": [
        "# showing first five rows of data:\n",
        "data.head()"
      ]
    },
    {
      "cell_type": "code",
      "execution_count": null,
      "metadata": {
        "execution": {
          "iopub.execute_input": "2021-01-17T04:58:29.700625Z",
          "iopub.status.busy": "2021-01-17T04:58:29.699643Z",
          "iopub.status.idle": "2021-01-17T04:58:29.715501Z",
          "shell.execute_reply": "2021-01-17T04:58:29.714877Z"
        },
        "papermill": {
          "duration": 0.049454,
          "end_time": "2021-01-17T04:58:29.715623",
          "exception": false,
          "start_time": "2021-01-17T04:58:29.666169",
          "status": "completed"
        },
        "tags": [],
        "id": "7VhSmkXC01BJ",
        "outputId": "46d992cf-82f4-46e2-d4b3-9225747bcf61"
      },
      "outputs": [
        {
          "name": "stdout",
          "output_type": "stream",
          "text": [
            "<class 'pandas.core.frame.DataFrame'>\n",
            "RangeIndex: 500 entries, 0 to 499\n",
            "Data columns (total 9 columns):\n",
            " #   Column             Non-Null Count  Dtype  \n",
            "---  ------             --------------  -----  \n",
            " 0   Serial No.         500 non-null    int64  \n",
            " 1   GRE Score          500 non-null    int64  \n",
            " 2   TOEFL Score        500 non-null    int64  \n",
            " 3   University Rating  500 non-null    int64  \n",
            " 4   SOP                500 non-null    float64\n",
            " 5   LOR                500 non-null    float64\n",
            " 6   CGPA               500 non-null    float64\n",
            " 7   Research           500 non-null    int64  \n",
            " 8   Chance of Admit    500 non-null    float64\n",
            "dtypes: float64(4), int64(5)\n",
            "memory usage: 35.3 KB\n"
          ]
        }
      ],
      "source": [
        "## first we can chek our data info using info function:\n",
        "data.info()"
      ]
    },
    {
      "cell_type": "code",
      "execution_count": null,
      "metadata": {
        "execution": {
          "iopub.execute_input": "2021-01-17T04:58:29.791322Z",
          "iopub.status.busy": "2021-01-17T04:58:29.790508Z",
          "iopub.status.idle": "2021-01-17T04:58:29.795286Z",
          "shell.execute_reply": "2021-01-17T04:58:29.795955Z"
        },
        "papermill": {
          "duration": 0.044327,
          "end_time": "2021-01-17T04:58:29.796106",
          "exception": false,
          "start_time": "2021-01-17T04:58:29.751779",
          "status": "completed"
        },
        "tags": [],
        "id": "GJuIfiAe01BK",
        "outputId": "8c2cc6e8-185c-42ea-b2ba-023627004165"
      },
      "outputs": [
        {
          "data": {
            "text/plain": [
              "Index(['Serial No.', 'GRE Score', 'TOEFL Score', 'University Rating', 'SOP',\n",
              "       'LOR ', 'CGPA', 'Research', 'Chance of Admit '],\n",
              "      dtype='object')"
            ]
          },
          "execution_count": 6,
          "metadata": {},
          "output_type": "execute_result"
        }
      ],
      "source": [
        "# first we check our columns name using df.columns function:\n",
        "data.columns"
      ]
    },
    {
      "cell_type": "markdown",
      "metadata": {
        "papermill": {
          "duration": 0.037464,
          "end_time": "2021-01-17T04:58:29.868166",
          "exception": false,
          "start_time": "2021-01-17T04:58:29.830702",
          "status": "completed"
        },
        "tags": [],
        "id": "Ep1hSNSG01BK"
      },
      "source": [
        "in our data set no any kind of missing values . but one thing is noteable that in our dataset\n",
        "<font color='red'>\"Serial No\" column is useless</font> this column get us error in model development session because here we want \n",
        "to predict the <font color='green'>\"Chance of admit\"</font> . and \"chance of admit\" not depend on your serial no so this column is useless for us.\n",
        "first we can remove this column using <font color='sky blue'>df.drop()</font> so lets GO"
      ]
    },
    {
      "cell_type": "markdown",
      "metadata": {
        "papermill": {
          "duration": 0.031535,
          "end_time": "2021-01-17T04:58:29.948216",
          "exception": false,
          "start_time": "2021-01-17T04:58:29.916681",
          "status": "completed"
        },
        "tags": [],
        "id": "Fvj5et0b01BL"
      },
      "source": [
        "**now we can select <font color='green'>'Serial No.'</font> column and remove this from our dataset.**"
      ]
    },
    {
      "cell_type": "code",
      "execution_count": null,
      "metadata": {
        "execution": {
          "iopub.execute_input": "2021-01-17T04:58:30.015795Z",
          "iopub.status.busy": "2021-01-17T04:58:30.015144Z",
          "iopub.status.idle": "2021-01-17T04:58:30.022008Z",
          "shell.execute_reply": "2021-01-17T04:58:30.022569Z"
        },
        "papermill": {
          "duration": 0.042489,
          "end_time": "2021-01-17T04:58:30.022727",
          "exception": false,
          "start_time": "2021-01-17T04:58:29.980238",
          "status": "completed"
        },
        "tags": [],
        "id": "x5gyLuQU01BM"
      },
      "outputs": [],
      "source": [
        "data.drop('Serial No.',axis=1,inplace=True)\n",
        "\n",
        "# axis = 1 because of its by default axis=0 . axis  = 0 means row wise , axis = 1 means column wise \n",
        "# so here we want to remove a column so we uset axis = 1 .\n",
        "\n",
        "# inplace = True . mean we want this changing in our main dataset -"
      ]
    },
    {
      "cell_type": "markdown",
      "metadata": {
        "papermill": {
          "duration": 0.031483,
          "end_time": "2021-01-17T04:58:30.085870",
          "exception": false,
          "start_time": "2021-01-17T04:58:30.054387",
          "status": "completed"
        },
        "tags": [],
        "id": "ea4NByMp01BN"
      },
      "source": [
        "**now you can see <font color=red>'Serial No.'</font> removed from our dataset.**"
      ]
    },
    {
      "cell_type": "code",
      "execution_count": null,
      "metadata": {
        "execution": {
          "iopub.execute_input": "2021-01-17T04:58:30.154520Z",
          "iopub.status.busy": "2021-01-17T04:58:30.153735Z",
          "iopub.status.idle": "2021-01-17T04:58:30.160484Z",
          "shell.execute_reply": "2021-01-17T04:58:30.161064Z"
        },
        "papermill": {
          "duration": 0.042822,
          "end_time": "2021-01-17T04:58:30.161223",
          "exception": false,
          "start_time": "2021-01-17T04:58:30.118401",
          "status": "completed"
        },
        "tags": [],
        "id": "Pq0eOShD01BO",
        "outputId": "968153ed-3428-4c95-b918-a245b5a2e33d"
      },
      "outputs": [
        {
          "data": {
            "text/plain": [
              "Index(['GRE Score', 'TOEFL Score', 'University Rating', 'SOP', 'LOR ', 'CGPA',\n",
              "       'Research', 'Chance of Admit '],\n",
              "      dtype='object')"
            ]
          },
          "execution_count": 8,
          "metadata": {},
          "output_type": "execute_result"
        }
      ],
      "source": [
        "data.columns"
      ]
    },
    {
      "cell_type": "code",
      "execution_count": null,
      "metadata": {
        "execution": {
          "iopub.execute_input": "2021-01-17T04:58:30.295126Z",
          "iopub.status.busy": "2021-01-17T04:58:30.294399Z",
          "iopub.status.idle": "2021-01-17T04:58:30.334081Z",
          "shell.execute_reply": "2021-01-17T04:58:30.333331Z"
        },
        "papermill": {
          "duration": 0.075629,
          "end_time": "2021-01-17T04:58:30.334211",
          "exception": false,
          "start_time": "2021-01-17T04:58:30.258582",
          "status": "completed"
        },
        "tags": [],
        "id": "zn9XlPiT01BQ",
        "outputId": "63e7b505-b0f3-4d02-e211-980cc5a8ead4"
      },
      "outputs": [
        {
          "data": {
            "text/html": [
              "<div>\n",
              "<style scoped>\n",
              "    .dataframe tbody tr th:only-of-type {\n",
              "        vertical-align: middle;\n",
              "    }\n",
              "\n",
              "    .dataframe tbody tr th {\n",
              "        vertical-align: top;\n",
              "    }\n",
              "\n",
              "    .dataframe thead th {\n",
              "        text-align: right;\n",
              "    }\n",
              "</style>\n",
              "<table border=\"1\" class=\"dataframe\">\n",
              "  <thead>\n",
              "    <tr style=\"text-align: right;\">\n",
              "      <th></th>\n",
              "      <th>GRE Score</th>\n",
              "      <th>TOEFL Score</th>\n",
              "      <th>University Rating</th>\n",
              "      <th>SOP</th>\n",
              "      <th>LOR</th>\n",
              "      <th>CGPA</th>\n",
              "      <th>Research</th>\n",
              "      <th>Chance of Admit</th>\n",
              "    </tr>\n",
              "  </thead>\n",
              "  <tbody>\n",
              "    <tr>\n",
              "      <th>count</th>\n",
              "      <td>500.000000</td>\n",
              "      <td>500.000000</td>\n",
              "      <td>500.000000</td>\n",
              "      <td>500.000000</td>\n",
              "      <td>500.00000</td>\n",
              "      <td>500.000000</td>\n",
              "      <td>500.000000</td>\n",
              "      <td>500.00000</td>\n",
              "    </tr>\n",
              "    <tr>\n",
              "      <th>mean</th>\n",
              "      <td>316.472000</td>\n",
              "      <td>107.192000</td>\n",
              "      <td>3.114000</td>\n",
              "      <td>3.374000</td>\n",
              "      <td>3.48400</td>\n",
              "      <td>8.576440</td>\n",
              "      <td>0.560000</td>\n",
              "      <td>0.72174</td>\n",
              "    </tr>\n",
              "    <tr>\n",
              "      <th>std</th>\n",
              "      <td>11.295148</td>\n",
              "      <td>6.081868</td>\n",
              "      <td>1.143512</td>\n",
              "      <td>0.991004</td>\n",
              "      <td>0.92545</td>\n",
              "      <td>0.604813</td>\n",
              "      <td>0.496884</td>\n",
              "      <td>0.14114</td>\n",
              "    </tr>\n",
              "    <tr>\n",
              "      <th>min</th>\n",
              "      <td>290.000000</td>\n",
              "      <td>92.000000</td>\n",
              "      <td>1.000000</td>\n",
              "      <td>1.000000</td>\n",
              "      <td>1.00000</td>\n",
              "      <td>6.800000</td>\n",
              "      <td>0.000000</td>\n",
              "      <td>0.34000</td>\n",
              "    </tr>\n",
              "    <tr>\n",
              "      <th>25%</th>\n",
              "      <td>308.000000</td>\n",
              "      <td>103.000000</td>\n",
              "      <td>2.000000</td>\n",
              "      <td>2.500000</td>\n",
              "      <td>3.00000</td>\n",
              "      <td>8.127500</td>\n",
              "      <td>0.000000</td>\n",
              "      <td>0.63000</td>\n",
              "    </tr>\n",
              "    <tr>\n",
              "      <th>50%</th>\n",
              "      <td>317.000000</td>\n",
              "      <td>107.000000</td>\n",
              "      <td>3.000000</td>\n",
              "      <td>3.500000</td>\n",
              "      <td>3.50000</td>\n",
              "      <td>8.560000</td>\n",
              "      <td>1.000000</td>\n",
              "      <td>0.72000</td>\n",
              "    </tr>\n",
              "    <tr>\n",
              "      <th>75%</th>\n",
              "      <td>325.000000</td>\n",
              "      <td>112.000000</td>\n",
              "      <td>4.000000</td>\n",
              "      <td>4.000000</td>\n",
              "      <td>4.00000</td>\n",
              "      <td>9.040000</td>\n",
              "      <td>1.000000</td>\n",
              "      <td>0.82000</td>\n",
              "    </tr>\n",
              "    <tr>\n",
              "      <th>max</th>\n",
              "      <td>340.000000</td>\n",
              "      <td>120.000000</td>\n",
              "      <td>5.000000</td>\n",
              "      <td>5.000000</td>\n",
              "      <td>5.00000</td>\n",
              "      <td>9.920000</td>\n",
              "      <td>1.000000</td>\n",
              "      <td>0.97000</td>\n",
              "    </tr>\n",
              "  </tbody>\n",
              "</table>\n",
              "</div>"
            ],
            "text/plain": [
              "        GRE Score  TOEFL Score  University Rating         SOP       LOR   \\\n",
              "count  500.000000   500.000000         500.000000  500.000000  500.00000   \n",
              "mean   316.472000   107.192000           3.114000    3.374000    3.48400   \n",
              "std     11.295148     6.081868           1.143512    0.991004    0.92545   \n",
              "min    290.000000    92.000000           1.000000    1.000000    1.00000   \n",
              "25%    308.000000   103.000000           2.000000    2.500000    3.00000   \n",
              "50%    317.000000   107.000000           3.000000    3.500000    3.50000   \n",
              "75%    325.000000   112.000000           4.000000    4.000000    4.00000   \n",
              "max    340.000000   120.000000           5.000000    5.000000    5.00000   \n",
              "\n",
              "             CGPA    Research  Chance of Admit   \n",
              "count  500.000000  500.000000         500.00000  \n",
              "mean     8.576440    0.560000           0.72174  \n",
              "std      0.604813    0.496884           0.14114  \n",
              "min      6.800000    0.000000           0.34000  \n",
              "25%      8.127500    0.000000           0.63000  \n",
              "50%      8.560000    1.000000           0.72000  \n",
              "75%      9.040000    1.000000           0.82000  \n",
              "max      9.920000    1.000000           0.97000  "
            ]
          },
          "execution_count": 9,
          "metadata": {},
          "output_type": "execute_result"
        }
      ],
      "source": [
        "data.describe()\n",
        "\n",
        "# using this function we can simply find [count,mean,std,min,25%,50%,75%,max]"
      ]
    },
    {
      "cell_type": "code",
      "execution_count": null,
      "metadata": {
        "execution": {
          "iopub.execute_input": "2021-01-17T04:58:30.410706Z",
          "iopub.status.busy": "2021-01-17T04:58:30.409976Z",
          "iopub.status.idle": "2021-01-17T04:58:30.423542Z",
          "shell.execute_reply": "2021-01-17T04:58:30.424154Z"
        },
        "papermill": {
          "duration": 0.054237,
          "end_time": "2021-01-17T04:58:30.424310",
          "exception": false,
          "start_time": "2021-01-17T04:58:30.370073",
          "status": "completed"
        },
        "tags": [],
        "id": "2A9P8P7q01BR",
        "outputId": "44d9c993-60b5-4f95-d703-6186d03a92d1"
      },
      "outputs": [
        {
          "data": {
            "text/html": [
              "<div>\n",
              "<style scoped>\n",
              "    .dataframe tbody tr th:only-of-type {\n",
              "        vertical-align: middle;\n",
              "    }\n",
              "\n",
              "    .dataframe tbody tr th {\n",
              "        vertical-align: top;\n",
              "    }\n",
              "\n",
              "    .dataframe thead th {\n",
              "        text-align: right;\n",
              "    }\n",
              "</style>\n",
              "<table border=\"1\" class=\"dataframe\">\n",
              "  <thead>\n",
              "    <tr style=\"text-align: right;\">\n",
              "      <th></th>\n",
              "      <th>GRE Score</th>\n",
              "      <th>TOEFL Score</th>\n",
              "      <th>University Rating</th>\n",
              "      <th>SOP</th>\n",
              "      <th>LOR</th>\n",
              "      <th>CGPA</th>\n",
              "      <th>Research</th>\n",
              "      <th>Chance of Admit</th>\n",
              "    </tr>\n",
              "  </thead>\n",
              "  <tbody>\n",
              "    <tr>\n",
              "      <th>GRE Score</th>\n",
              "      <td>1.000000</td>\n",
              "      <td>0.827200</td>\n",
              "      <td>0.635376</td>\n",
              "      <td>0.613498</td>\n",
              "      <td>0.524679</td>\n",
              "      <td>0.825878</td>\n",
              "      <td>0.563398</td>\n",
              "      <td>0.810351</td>\n",
              "    </tr>\n",
              "    <tr>\n",
              "      <th>TOEFL Score</th>\n",
              "      <td>0.827200</td>\n",
              "      <td>1.000000</td>\n",
              "      <td>0.649799</td>\n",
              "      <td>0.644410</td>\n",
              "      <td>0.541563</td>\n",
              "      <td>0.810574</td>\n",
              "      <td>0.467012</td>\n",
              "      <td>0.792228</td>\n",
              "    </tr>\n",
              "    <tr>\n",
              "      <th>University Rating</th>\n",
              "      <td>0.635376</td>\n",
              "      <td>0.649799</td>\n",
              "      <td>1.000000</td>\n",
              "      <td>0.728024</td>\n",
              "      <td>0.608651</td>\n",
              "      <td>0.705254</td>\n",
              "      <td>0.427047</td>\n",
              "      <td>0.690132</td>\n",
              "    </tr>\n",
              "    <tr>\n",
              "      <th>SOP</th>\n",
              "      <td>0.613498</td>\n",
              "      <td>0.644410</td>\n",
              "      <td>0.728024</td>\n",
              "      <td>1.000000</td>\n",
              "      <td>0.663707</td>\n",
              "      <td>0.712154</td>\n",
              "      <td>0.408116</td>\n",
              "      <td>0.684137</td>\n",
              "    </tr>\n",
              "    <tr>\n",
              "      <th>LOR</th>\n",
              "      <td>0.524679</td>\n",
              "      <td>0.541563</td>\n",
              "      <td>0.608651</td>\n",
              "      <td>0.663707</td>\n",
              "      <td>1.000000</td>\n",
              "      <td>0.637469</td>\n",
              "      <td>0.372526</td>\n",
              "      <td>0.645365</td>\n",
              "    </tr>\n",
              "    <tr>\n",
              "      <th>CGPA</th>\n",
              "      <td>0.825878</td>\n",
              "      <td>0.810574</td>\n",
              "      <td>0.705254</td>\n",
              "      <td>0.712154</td>\n",
              "      <td>0.637469</td>\n",
              "      <td>1.000000</td>\n",
              "      <td>0.501311</td>\n",
              "      <td>0.882413</td>\n",
              "    </tr>\n",
              "    <tr>\n",
              "      <th>Research</th>\n",
              "      <td>0.563398</td>\n",
              "      <td>0.467012</td>\n",
              "      <td>0.427047</td>\n",
              "      <td>0.408116</td>\n",
              "      <td>0.372526</td>\n",
              "      <td>0.501311</td>\n",
              "      <td>1.000000</td>\n",
              "      <td>0.545871</td>\n",
              "    </tr>\n",
              "    <tr>\n",
              "      <th>Chance of Admit</th>\n",
              "      <td>0.810351</td>\n",
              "      <td>0.792228</td>\n",
              "      <td>0.690132</td>\n",
              "      <td>0.684137</td>\n",
              "      <td>0.645365</td>\n",
              "      <td>0.882413</td>\n",
              "      <td>0.545871</td>\n",
              "      <td>1.000000</td>\n",
              "    </tr>\n",
              "  </tbody>\n",
              "</table>\n",
              "</div>"
            ],
            "text/plain": [
              "                   GRE Score  TOEFL Score  University Rating       SOP  \\\n",
              "GRE Score           1.000000     0.827200           0.635376  0.613498   \n",
              "TOEFL Score         0.827200     1.000000           0.649799  0.644410   \n",
              "University Rating   0.635376     0.649799           1.000000  0.728024   \n",
              "SOP                 0.613498     0.644410           0.728024  1.000000   \n",
              "LOR                 0.524679     0.541563           0.608651  0.663707   \n",
              "CGPA                0.825878     0.810574           0.705254  0.712154   \n",
              "Research            0.563398     0.467012           0.427047  0.408116   \n",
              "Chance of Admit     0.810351     0.792228           0.690132  0.684137   \n",
              "\n",
              "                       LOR       CGPA  Research  Chance of Admit   \n",
              "GRE Score          0.524679  0.825878  0.563398          0.810351  \n",
              "TOEFL Score        0.541563  0.810574  0.467012          0.792228  \n",
              "University Rating  0.608651  0.705254  0.427047          0.690132  \n",
              "SOP                0.663707  0.712154  0.408116          0.684137  \n",
              "LOR                1.000000  0.637469  0.372526          0.645365  \n",
              "CGPA               0.637469  1.000000  0.501311          0.882413  \n",
              "Research           0.372526  0.501311  1.000000          0.545871  \n",
              "Chance of Admit    0.645365  0.882413  0.545871          1.000000  "
            ]
          },
          "execution_count": 10,
          "metadata": {},
          "output_type": "execute_result"
        }
      ],
      "source": [
        "data.corr()\n",
        "\n",
        "# dataframe.corr() is used to find the pairwise correlation of all columns in the dataframe. \n",
        "# Any na values are automatically excluded. For any non-numeric data type columns in the dataframe \n",
        "# it is ignored."
      ]
    },
    {
      "cell_type": "markdown",
      "metadata": {
        "papermill": {
          "duration": 0.03296,
          "end_time": "2021-01-17T04:58:30.497520",
          "exception": false,
          "start_time": "2021-01-17T04:58:30.464560",
          "status": "completed"
        },
        "tags": [],
        "id": "9LCXiIug01BS"
      },
      "source": [
        "now we can find correlations between x and y variabls . in x variabls we have independent variables and in y variable we have dependent variables. we can change this corr table into a graph usng <font color = 'green'>seaborn heatmap</font> through for simply understanding."
      ]
    },
    {
      "cell_type": "code",
      "execution_count": null,
      "metadata": {
        "execution": {
          "iopub.execute_input": "2021-01-17T04:58:30.567289Z",
          "iopub.status.busy": "2021-01-17T04:58:30.566645Z",
          "iopub.status.idle": "2021-01-17T04:58:31.075356Z",
          "shell.execute_reply": "2021-01-17T04:58:31.074776Z"
        },
        "papermill": {
          "duration": 0.544762,
          "end_time": "2021-01-17T04:58:31.075479",
          "exception": false,
          "start_time": "2021-01-17T04:58:30.530717",
          "status": "completed"
        },
        "tags": [],
        "id": "r3StyJ1T01BT",
        "outputId": "17c72c9b-aa84-481a-d7c6-24e197d90413"
      },
      "outputs": [
        {
          "data": {
            "text/plain": [
              "<matplotlib.axes._subplots.AxesSubplot at 0x7fcdb1680b50>"
            ]
          },
          "execution_count": 11,
          "metadata": {},
          "output_type": "execute_result"
        },
        {
          "data": {
            "image/png": "[encoded data removed]",
            "text/plain": [
              "<Figure size 432x288 with 2 Axes>"
            ]
          },
          "metadata": {
            "needs_background": "light"
          },
          "output_type": "display_data"
        }
      ],
      "source": [
        " sns.heatmap(data.corr(),annot=True)\n",
        "\n",
        "# now you can simple check out correlation between x and y variables:"
      ]
    },
    {
      "cell_type": "markdown",
      "metadata": {
        "papermill": {
          "duration": 0.034938,
          "end_time": "2021-01-17T04:58:31.146445",
          "exception": false,
          "start_time": "2021-01-17T04:58:31.111507",
          "status": "completed"
        },
        "tags": [],
        "id": "KDJxDqDN01BU"
      },
      "source": [
        "<b>as u can see <font color='red'>['CGPA','GRE Score','TOEFL Score']</font> are strongly correlated with dependent variable - '<font color='green'>Chance of Admit '</green>"
      ]
    },
    {
      "cell_type": "code",
      "execution_count": null,
      "metadata": {
        "execution": {
          "iopub.execute_input": "2021-01-17T04:58:31.236619Z",
          "iopub.status.busy": "2021-01-17T04:58:31.235893Z",
          "iopub.status.idle": "2021-01-17T04:58:31.394721Z",
          "shell.execute_reply": "2021-01-17T04:58:31.395244Z"
        },
        "papermill": {
          "duration": 0.21308,
          "end_time": "2021-01-17T04:58:31.395406",
          "exception": false,
          "start_time": "2021-01-17T04:58:31.182326",
          "status": "completed"
        },
        "tags": [],
        "id": "2MBGRIRh01BV",
        "outputId": "14ba8e7b-cbb4-4f81-ab92-eadfdbdae9b7"
      },
      "outputs": [
        {
          "data": {
            "text/plain": [
              "<matplotlib.axes._subplots.AxesSubplot at 0x7fcdb12e8f90>"
            ]
          },
          "execution_count": 12,
          "metadata": {},
          "output_type": "execute_result"
        },
        {
          "data": {
            "image/png": "[encoded data removed]",
            "text/plain": [
              "<Figure size 432x288 with 1 Axes>"
            ]
          },
          "metadata": {
            "needs_background": "light"
          },
          "output_type": "display_data"
        }
      ],
      "source": [
        "sns.distplot(data['CGPA'])"
      ]
    },
    {
      "cell_type": "markdown",
      "metadata": {
        "papermill": {
          "duration": 0.041534,
          "end_time": "2021-01-17T04:58:31.473944",
          "exception": false,
          "start_time": "2021-01-17T04:58:31.432410",
          "status": "completed"
        },
        "tags": [],
        "id": "DkowvCFq01BW"
      },
      "source": [
        "<h2>CGPA <font color='green'>VS</font> Chance of Admit<h2>"
      ]
    },
    {
      "cell_type": "code",
      "execution_count": null,
      "metadata": {
        "execution": {
          "iopub.execute_input": "2021-01-17T04:58:31.572434Z",
          "iopub.status.busy": "2021-01-17T04:58:31.571354Z",
          "iopub.status.idle": "2021-01-17T04:58:31.873029Z",
          "shell.execute_reply": "2021-01-17T04:58:31.873715Z"
        },
        "papermill": {
          "duration": 0.3562,
          "end_time": "2021-01-17T04:58:31.873858",
          "exception": false,
          "start_time": "2021-01-17T04:58:31.517658",
          "status": "completed"
        },
        "tags": [],
        "id": "LBbBNDrM01BW",
        "outputId": "21716ff7-f8f2-4333-fa50-a2511083ba4d"
      },
      "outputs": [
        {
          "data": {
            "text/plain": [
              "<matplotlib.axes._subplots.AxesSubplot at 0x7fcdb12a0e90>"
            ]
          },
          "execution_count": 13,
          "metadata": {},
          "output_type": "execute_result"
        },
        {
          "data": {
            "image/png": "[encoded data removed]",
            "text/plain": [
              "<Figure size 432x288 with 1 Axes>"
            ]
          },
          "metadata": {
            "needs_background": "light"
          },
          "output_type": "display_data"
        }
      ],
      "source": [
        "sns.regplot(x='CGPA',y='Chance of Admit ',data=data,ci=None)"
      ]
    },
    {
      "cell_type": "markdown",
      "metadata": {
        "papermill": {
          "duration": 0.039182,
          "end_time": "2021-01-17T04:58:31.951465",
          "exception": false,
          "start_time": "2021-01-17T04:58:31.912283",
          "status": "completed"
        },
        "tags": [],
        "id": "2xamsq6201BX"
      },
      "source": [
        "<h2>GRE Score <font color='green'>VS</font> Chance of Admit<h2>"
      ]
    },
    {
      "cell_type": "code",
      "execution_count": null,
      "metadata": {
        "execution": {
          "iopub.execute_input": "2021-01-17T04:58:32.043408Z",
          "iopub.status.busy": "2021-01-17T04:58:32.036419Z",
          "iopub.status.idle": "2021-01-17T04:58:32.198839Z",
          "shell.execute_reply": "2021-01-17T04:58:32.199475Z"
        },
        "papermill": {
          "duration": 0.209294,
          "end_time": "2021-01-17T04:58:32.199665",
          "exception": false,
          "start_time": "2021-01-17T04:58:31.990371",
          "status": "completed"
        },
        "tags": [],
        "id": "5PaOpSOq01BY",
        "outputId": "deaf8360-514f-4931-ea4d-ef1b8661a1d0"
      },
      "outputs": [
        {
          "data": {
            "text/plain": [
              "<matplotlib.axes._subplots.AxesSubplot at 0x7fcdb09fbb50>"
            ]
          },
          "execution_count": 14,
          "metadata": {},
          "output_type": "execute_result"
        },
        {
          "data": {
            "image/png": "[encoded data removed]",
            "text/plain": [
              "<Figure size 432x288 with 1 Axes>"
            ]
          },
          "metadata": {
            "needs_background": "light"
          },
          "output_type": "display_data"
        }
      ],
      "source": [
        "sns.regplot(x='GRE Score',y='Chance of Admit ',data=data,ci=None)"
      ]
    },
    {
      "cell_type": "markdown",
      "metadata": {
        "papermill": {
          "duration": 0.041899,
          "end_time": "2021-01-17T04:58:32.287057",
          "exception": false,
          "start_time": "2021-01-17T04:58:32.245158",
          "status": "completed"
        },
        "tags": [],
        "id": "4qg2xaa801BZ"
      },
      "source": [
        "<h2>TOEFL Score <font color='green'>VS</font> Chance of Admit<h2>"
      ]
    },
    {
      "cell_type": "code",
      "execution_count": null,
      "metadata": {
        "execution": {
          "iopub.execute_input": "2021-01-17T04:58:32.385461Z",
          "iopub.status.busy": "2021-01-17T04:58:32.376821Z",
          "iopub.status.idle": "2021-01-17T04:58:32.543289Z",
          "shell.execute_reply": "2021-01-17T04:58:32.544086Z"
        },
        "papermill": {
          "duration": 0.215493,
          "end_time": "2021-01-17T04:58:32.544307",
          "exception": false,
          "start_time": "2021-01-17T04:58:32.328814",
          "status": "completed"
        },
        "tags": [],
        "id": "VFlU-cGq01BZ",
        "outputId": "979c90b4-6553-456f-897c-8517c35ae2bb"
      },
      "outputs": [
        {
          "data": {
            "text/plain": [
              "<matplotlib.axes._subplots.AxesSubplot at 0x7fcdb09dca90>"
            ]
          },
          "execution_count": 15,
          "metadata": {},
          "output_type": "execute_result"
        },
        {
          "data": {
            "image/png": "[encoded data removed]",
            "text/plain": [
              "<Figure size 432x288 with 1 Axes>"
            ]
          },
          "metadata": {
            "needs_background": "light"
          },
          "output_type": "display_data"
        }
      ],
      "source": [
        "sns.regplot(x='TOEFL Score',y='Chance of Admit ',data=data,ci=None)"
      ]
    },
    {
      "cell_type": "markdown",
      "metadata": {
        "papermill": {
          "duration": 0.042263,
          "end_time": "2021-01-17T04:58:32.633288",
          "exception": false,
          "start_time": "2021-01-17T04:58:32.591025",
          "status": "completed"
        },
        "tags": [],
        "id": "HaXJEVNC01Ba"
      },
      "source": [
        "now we can use these columns in model for <font color=\"green\">Chance of Admit</font> prediction"
      ]
    },
    {
      "cell_type": "markdown",
      "metadata": {
        "papermill": {
          "duration": 0.043673,
          "end_time": "2021-01-17T04:58:32.807512",
          "exception": false,
          "start_time": "2021-01-17T04:58:32.763839",
          "status": "completed"
        },
        "tags": [],
        "id": "QQnNKJZV01Bb"
      },
      "source": [
        "now we can split our variables in 2 variables x and y :<br>\n",
        "+ <font color='green'> x = independent variables\n",
        "+ y = dependent variables</font><br>\n",
        "\n",
        "independent variables are  <font color='green'>[CGPA,GRE Score,TOEFL Score]</font> we put these variables in X = [CGPA,GRE Score,TOEFL Score]<br>\n",
        "dependent variable are <font color='green'> [Chance of Admit]</font> now we go to predict this variabl so y = [Chance of Admit]"
      ]
    },
    {
      "cell_type": "code",
      "execution_count": null,
      "metadata": {
        "execution": {
          "iopub.execute_input": "2021-01-17T04:58:32.899817Z",
          "iopub.status.busy": "2021-01-17T04:58:32.899099Z",
          "iopub.status.idle": "2021-01-17T04:58:32.901557Z",
          "shell.execute_reply": "2021-01-17T04:58:32.902163Z"
        },
        "papermill": {
          "duration": 0.052396,
          "end_time": "2021-01-17T04:58:32.902314",
          "exception": false,
          "start_time": "2021-01-17T04:58:32.849918",
          "status": "completed"
        },
        "tags": [],
        "id": "3Vv0qhO401Bb"
      },
      "outputs": [],
      "source": [
        "x = data[['CGPA','GRE Score','TOEFL Score']]"
      ]
    },
    {
      "cell_type": "code",
      "execution_count": null,
      "metadata": {
        "execution": {
          "iopub.execute_input": "2021-01-17T04:58:32.992903Z",
          "iopub.status.busy": "2021-01-17T04:58:32.992197Z",
          "iopub.status.idle": "2021-01-17T04:58:32.997480Z",
          "shell.execute_reply": "2021-01-17T04:58:32.998145Z"
        },
        "papermill": {
          "duration": 0.052675,
          "end_time": "2021-01-17T04:58:32.998323",
          "exception": false,
          "start_time": "2021-01-17T04:58:32.945648",
          "status": "completed"
        },
        "tags": [],
        "id": "GsqQR_MR01Bc"
      },
      "outputs": [],
      "source": [
        "y = data[['Chance of Admit ']]"
      ]
    },
    {
      "cell_type": "markdown",
      "metadata": {
        "papermill": {
          "duration": 0.042424,
          "end_time": "2021-01-17T04:58:33.083904",
          "exception": false,
          "start_time": "2021-01-17T04:58:33.041480",
          "status": "completed"
        },
        "tags": [],
        "id": "WZBuI2eU01Bc"
      },
      "source": [
        "<font color = 'red'>from sklearn.linear_model import LinearRegression<br>\n",
        "from sklearn.model_selection import train_test_split<br>\n",
        "import random<br></font>\n",
        "\n",
        "these libraries we can use for create our model . so we already import these libraries . lets start working on model.<br>"
      ]
    },
    {
      "cell_type": "code",
      "execution_count": null,
      "metadata": {
        "execution": {
          "iopub.execute_input": "2021-01-17T04:58:33.173476Z",
          "iopub.status.busy": "2021-01-17T04:58:33.172740Z",
          "iopub.status.idle": "2021-01-17T04:58:33.180601Z",
          "shell.execute_reply": "2021-01-17T04:58:33.179761Z"
        },
        "papermill": {
          "duration": 0.053901,
          "end_time": "2021-01-17T04:58:33.180723",
          "exception": false,
          "start_time": "2021-01-17T04:58:33.126822",
          "status": "completed"
        },
        "tags": [],
        "id": "J9h7C7tc01Bd"
      },
      "outputs": [],
      "source": [
        "# Split data for test and train the model.\n",
        "x_train, x_test, y_train, y_test = train_test_split(x,y,random_state=0,test_size=.20)"
      ]
    },
    {
      "cell_type": "code",
      "execution_count": null,
      "metadata": {
        "execution": {
          "iopub.execute_input": "2021-01-17T04:58:33.272384Z",
          "iopub.status.busy": "2021-01-17T04:58:33.271556Z",
          "iopub.status.idle": "2021-01-17T04:58:33.274905Z",
          "shell.execute_reply": "2021-01-17T04:58:33.275467Z"
        },
        "papermill": {
          "duration": 0.051885,
          "end_time": "2021-01-17T04:58:33.275611",
          "exception": false,
          "start_time": "2021-01-17T04:58:33.223726",
          "status": "completed"
        },
        "tags": [],
        "id": "PTlbrR-S01Be",
        "outputId": "d769ac21-1b1a-4735-ade2-8d2b6ded437d"
      },
      "outputs": [
        {
          "data": {
            "text/plain": [
              "(500, 3)"
            ]
          },
          "execution_count": 19,
          "metadata": {},
          "output_type": "execute_result"
        }
      ],
      "source": [
        "# x shape\n",
        "x.shape"
      ]
    },
    {
      "cell_type": "code",
      "execution_count": null,
      "metadata": {
        "execution": {
          "iopub.execute_input": "2021-01-17T04:58:33.370271Z",
          "iopub.status.busy": "2021-01-17T04:58:33.369244Z",
          "iopub.status.idle": "2021-01-17T04:58:33.374183Z",
          "shell.execute_reply": "2021-01-17T04:58:33.373541Z"
        },
        "papermill": {
          "duration": 0.054899,
          "end_time": "2021-01-17T04:58:33.374308",
          "exception": false,
          "start_time": "2021-01-17T04:58:33.319409",
          "status": "completed"
        },
        "tags": [],
        "id": "-fp2OOW901Be",
        "outputId": "39eef077-8088-4eca-dc6a-67781dd309a0"
      },
      "outputs": [
        {
          "data": {
            "text/plain": [
              "(400, 3)"
            ]
          },
          "execution_count": 20,
          "metadata": {},
          "output_type": "execute_result"
        }
      ],
      "source": [
        "# x_train shape 80% of data from x - 20% other data for test\n",
        "x_train.shape"
      ]
    },
    {
      "cell_type": "code",
      "execution_count": null,
      "metadata": {
        "execution": {
          "iopub.execute_input": "2021-01-17T04:58:33.473388Z",
          "iopub.status.busy": "2021-01-17T04:58:33.472653Z",
          "iopub.status.idle": "2021-01-17T04:58:33.477132Z",
          "shell.execute_reply": "2021-01-17T04:58:33.476538Z"
        },
        "papermill": {
          "duration": 0.058632,
          "end_time": "2021-01-17T04:58:33.477245",
          "exception": false,
          "start_time": "2021-01-17T04:58:33.418613",
          "status": "completed"
        },
        "tags": [],
        "id": "7Cg-Pi-601Bf",
        "outputId": "22a82078-21a4-40c4-afaa-ecd41f20ded8"
      },
      "outputs": [
        {
          "data": {
            "text/html": [
              "<div>\n",
              "<style scoped>\n",
              "    .dataframe tbody tr th:only-of-type {\n",
              "        vertical-align: middle;\n",
              "    }\n",
              "\n",
              "    .dataframe tbody tr th {\n",
              "        vertical-align: top;\n",
              "    }\n",
              "\n",
              "    .dataframe thead th {\n",
              "        text-align: right;\n",
              "    }\n",
              "</style>\n",
              "<table border=\"1\" class=\"dataframe\">\n",
              "  <thead>\n",
              "    <tr style=\"text-align: right;\">\n",
              "      <th></th>\n",
              "      <th>CGPA</th>\n",
              "      <th>GRE Score</th>\n",
              "      <th>TOEFL Score</th>\n",
              "    </tr>\n",
              "  </thead>\n",
              "  <tbody>\n",
              "    <tr>\n",
              "      <th>107</th>\n",
              "      <td>9.46</td>\n",
              "      <td>338</td>\n",
              "      <td>117</td>\n",
              "    </tr>\n",
              "    <tr>\n",
              "      <th>336</th>\n",
              "      <td>8.79</td>\n",
              "      <td>319</td>\n",
              "      <td>110</td>\n",
              "    </tr>\n",
              "    <tr>\n",
              "      <th>71</th>\n",
              "      <td>9.76</td>\n",
              "      <td>336</td>\n",
              "      <td>112</td>\n",
              "    </tr>\n",
              "    <tr>\n",
              "      <th>474</th>\n",
              "      <td>7.95</td>\n",
              "      <td>308</td>\n",
              "      <td>105</td>\n",
              "    </tr>\n",
              "    <tr>\n",
              "      <th>6</th>\n",
              "      <td>8.20</td>\n",
              "      <td>321</td>\n",
              "      <td>109</td>\n",
              "    </tr>\n",
              "  </tbody>\n",
              "</table>\n",
              "</div>"
            ],
            "text/plain": [
              "     CGPA  GRE Score  TOEFL Score\n",
              "107  9.46        338          117\n",
              "336  8.79        319          110\n",
              "71   9.76        336          112\n",
              "474  7.95        308          105\n",
              "6    8.20        321          109"
            ]
          },
          "execution_count": 21,
          "metadata": {},
          "output_type": "execute_result"
        }
      ],
      "source": [
        "# x_train first five rows:\n",
        "x_train.head()"
      ]
    },
    {
      "cell_type": "code",
      "execution_count": null,
      "metadata": {
        "execution": {
          "iopub.execute_input": "2021-01-17T04:58:33.659283Z",
          "iopub.status.busy": "2021-01-17T04:58:33.658650Z",
          "iopub.status.idle": "2021-01-17T04:58:33.662474Z",
          "shell.execute_reply": "2021-01-17T04:58:33.663038Z"
        },
        "papermill": {
          "duration": 0.05137,
          "end_time": "2021-01-17T04:58:33.663177",
          "exception": false,
          "start_time": "2021-01-17T04:58:33.611807",
          "status": "completed"
        },
        "tags": [],
        "id": "Y8TMIBSN01Bg"
      },
      "outputs": [],
      "source": [
        "#object\n",
        "linreg = LinearRegression()"
      ]
    },
    {
      "cell_type": "code",
      "execution_count": null,
      "metadata": {
        "execution": {
          "iopub.execute_input": "2021-01-17T04:58:33.770735Z",
          "iopub.status.busy": "2021-01-17T04:58:33.770049Z",
          "iopub.status.idle": "2021-01-17T04:58:33.777973Z",
          "shell.execute_reply": "2021-01-17T04:58:33.778662Z"
        },
        "papermill": {
          "duration": 0.070572,
          "end_time": "2021-01-17T04:58:33.778828",
          "exception": false,
          "start_time": "2021-01-17T04:58:33.708256",
          "status": "completed"
        },
        "tags": [],
        "id": "ny5WO78z01Bg",
        "outputId": "422a4305-7e3c-4ee0-a5a7-3f8703e1750c"
      },
      "outputs": [
        {
          "data": {
            "text/plain": [
              "LinearRegression()"
            ]
          },
          "execution_count": 23,
          "metadata": {},
          "output_type": "execute_result"
        }
      ],
      "source": [
        "# fiting our data for training\n",
        "linreg.fit(x_train,y_train)"
      ]
    },
    {
      "cell_type": "code",
      "execution_count": null,
      "metadata": {
        "execution": {
          "iopub.execute_input": "2021-01-17T04:58:33.967252Z",
          "iopub.status.busy": "2021-01-17T04:58:33.966220Z",
          "iopub.status.idle": "2021-01-17T04:58:33.969633Z",
          "shell.execute_reply": "2021-01-17T04:58:33.968974Z"
        },
        "papermill": {
          "duration": 0.055414,
          "end_time": "2021-01-17T04:58:33.969764",
          "exception": false,
          "start_time": "2021-01-17T04:58:33.914350",
          "status": "completed"
        },
        "tags": [],
        "id": "Yt6UkHB501Bh"
      },
      "outputs": [],
      "source": [
        "# our model is ready to predict y.\n",
        "y_predict = linreg.predict(x_test)"
      ]
    },
    {
      "cell_type": "code",
      "execution_count": null,
      "metadata": {
        "execution": {
          "iopub.execute_input": "2021-01-17T04:58:34.068303Z",
          "iopub.status.busy": "2021-01-17T04:58:34.067224Z",
          "iopub.status.idle": "2021-01-17T04:58:34.072040Z",
          "shell.execute_reply": "2021-01-17T04:58:34.071304Z"
        },
        "papermill": {
          "duration": 0.056393,
          "end_time": "2021-01-17T04:58:34.072165",
          "exception": false,
          "start_time": "2021-01-17T04:58:34.015772",
          "status": "completed"
        },
        "tags": [],
        "id": "Ddg1Xdi801Bi",
        "outputId": "1c49ce5b-4459-43aa-8c3d-5804f64cb7c7"
      },
      "outputs": [
        {
          "data": {
            "text/plain": [
              "array([[0.62802152],\n",
              "       [0.83209435],\n",
              "       [0.79119818],\n",
              "       [0.85046086],\n",
              "       [0.60222891],\n",
              "       [0.66888863],\n",
              "       [0.55297329],\n",
              "       [0.68293116],\n",
              "       [0.55296602],\n",
              "       [0.7583334 ]])"
            ]
          },
          "execution_count": 25,
          "metadata": {},
          "output_type": "execute_result"
        }
      ],
      "source": [
        "# our model prediction\n",
        "y_predict[:10]"
      ]
    },
    {
      "cell_type": "markdown",
      "metadata": {
        "papermill": {
          "duration": 0.044914,
          "end_time": "2021-01-17T04:58:34.252061",
          "exception": false,
          "start_time": "2021-01-17T04:58:34.207147",
          "status": "completed"
        },
        "tags": [],
        "id": "VzMXVj-R01Bj"
      },
      "source": [
        "First we can compare y_predict and y_test "
      ]
    },
    {
      "cell_type": "code",
      "execution_count": null,
      "metadata": {
        "execution": {
          "iopub.execute_input": "2021-01-17T04:58:34.348828Z",
          "iopub.status.busy": "2021-01-17T04:58:34.347819Z",
          "iopub.status.idle": "2021-01-17T04:58:34.353031Z",
          "shell.execute_reply": "2021-01-17T04:58:34.352343Z"
        },
        "papermill": {
          "duration": 0.056082,
          "end_time": "2021-01-17T04:58:34.353152",
          "exception": false,
          "start_time": "2021-01-17T04:58:34.297070",
          "status": "completed"
        },
        "tags": [],
        "id": "JNrZBLJq01Bj",
        "outputId": "d4460bad-7bb1-496b-c6e0-7610a0f1b773"
      },
      "outputs": [
        {
          "data": {
            "text/plain": [
              "array([[0.62802152],\n",
              "       [0.83209435],\n",
              "       [0.79119818],\n",
              "       [0.85046086],\n",
              "       [0.60222891],\n",
              "       [0.66888863],\n",
              "       [0.55297329],\n",
              "       [0.68293116],\n",
              "       [0.55296602],\n",
              "       [0.7583334 ]])"
            ]
          },
          "execution_count": 26,
          "metadata": {},
          "output_type": "execute_result"
        }
      ],
      "source": [
        "# y predict\n",
        "y_predict[:10]"
      ]
    },
    {
      "cell_type": "code",
      "execution_count": null,
      "metadata": {
        "execution": {
          "iopub.execute_input": "2021-01-17T04:58:34.454824Z",
          "iopub.status.busy": "2021-01-17T04:58:34.453953Z",
          "iopub.status.idle": "2021-01-17T04:58:34.458228Z",
          "shell.execute_reply": "2021-01-17T04:58:34.457669Z"
        },
        "papermill": {
          "duration": 0.058919,
          "end_time": "2021-01-17T04:58:34.458349",
          "exception": false,
          "start_time": "2021-01-17T04:58:34.399430",
          "status": "completed"
        },
        "tags": [],
        "id": "2fdkt6Ip01Bk",
        "outputId": "06cd574f-c311-4fb7-bfe5-4a2b3c7e371f"
      },
      "outputs": [
        {
          "data": {
            "text/html": [
              "<div>\n",
              "<style scoped>\n",
              "    .dataframe tbody tr th:only-of-type {\n",
              "        vertical-align: middle;\n",
              "    }\n",
              "\n",
              "    .dataframe tbody tr th {\n",
              "        vertical-align: top;\n",
              "    }\n",
              "\n",
              "    .dataframe thead th {\n",
              "        text-align: right;\n",
              "    }\n",
              "</style>\n",
              "<table border=\"1\" class=\"dataframe\">\n",
              "  <thead>\n",
              "    <tr style=\"text-align: right;\">\n",
              "      <th></th>\n",
              "      <th>Chance of Admit</th>\n",
              "    </tr>\n",
              "  </thead>\n",
              "  <tbody>\n",
              "    <tr>\n",
              "      <th>90</th>\n",
              "      <td>0.64</td>\n",
              "    </tr>\n",
              "    <tr>\n",
              "      <th>254</th>\n",
              "      <td>0.85</td>\n",
              "    </tr>\n",
              "    <tr>\n",
              "      <th>283</th>\n",
              "      <td>0.80</td>\n",
              "    </tr>\n",
              "    <tr>\n",
              "      <th>445</th>\n",
              "      <td>0.91</td>\n",
              "    </tr>\n",
              "    <tr>\n",
              "      <th>461</th>\n",
              "      <td>0.68</td>\n",
              "    </tr>\n",
              "    <tr>\n",
              "      <th>15</th>\n",
              "      <td>0.54</td>\n",
              "    </tr>\n",
              "    <tr>\n",
              "      <th>316</th>\n",
              "      <td>0.54</td>\n",
              "    </tr>\n",
              "    <tr>\n",
              "      <th>489</th>\n",
              "      <td>0.65</td>\n",
              "    </tr>\n",
              "    <tr>\n",
              "      <th>159</th>\n",
              "      <td>0.52</td>\n",
              "    </tr>\n",
              "    <tr>\n",
              "      <th>153</th>\n",
              "      <td>0.79</td>\n",
              "    </tr>\n",
              "  </tbody>\n",
              "</table>\n",
              "</div>"
            ],
            "text/plain": [
              "     Chance of Admit \n",
              "90               0.64\n",
              "254              0.85\n",
              "283              0.80\n",
              "445              0.91\n",
              "461              0.68\n",
              "15               0.54\n",
              "316              0.54\n",
              "489              0.65\n",
              "159              0.52\n",
              "153              0.79"
            ]
          },
          "execution_count": 27,
          "metadata": {},
          "output_type": "execute_result"
        }
      ],
      "source": [
        "# y test\n",
        "y_test[:10]"
      ]
    },
    {
      "cell_type": "markdown",
      "metadata": {
        "papermill": {
          "duration": 0.045451,
          "end_time": "2021-01-17T04:58:34.549897",
          "exception": false,
          "start_time": "2021-01-17T04:58:34.504446",
          "status": "completed"
        },
        "tags": [],
        "id": "DugoDpXc01Bk"
      },
      "source": [
        "from sklearn import metrics<br>\n",
        "we can use this for find evaluating the performance"
      ]
    },
    {
      "cell_type": "code",
      "execution_count": null,
      "metadata": {
        "execution": {
          "iopub.execute_input": "2021-01-17T04:58:34.646942Z",
          "iopub.status.busy": "2021-01-17T04:58:34.646118Z",
          "iopub.status.idle": "2021-01-17T04:58:34.648988Z",
          "shell.execute_reply": "2021-01-17T04:58:34.649473Z"
        },
        "papermill": {
          "duration": 0.053252,
          "end_time": "2021-01-17T04:58:34.649622",
          "exception": false,
          "start_time": "2021-01-17T04:58:34.596370",
          "status": "completed"
        },
        "tags": [],
        "id": "kbZLCy7401Bl"
      },
      "outputs": [],
      "source": [
        "# from sklearn import metrics\n",
        "# already imported"
      ]
    },
    {
      "cell_type": "code",
      "execution_count": null,
      "metadata": {
        "execution": {
          "iopub.execute_input": "2021-01-17T04:58:34.774158Z",
          "iopub.status.busy": "2021-01-17T04:58:34.773048Z",
          "iopub.status.idle": "2021-01-17T04:58:34.790362Z",
          "shell.execute_reply": "2021-01-17T04:58:34.791337Z"
        },
        "papermill": {
          "duration": 0.095555,
          "end_time": "2021-01-17T04:58:34.791575",
          "exception": false,
          "start_time": "2021-01-17T04:58:34.696020",
          "status": "completed"
        },
        "tags": [],
        "id": "QcVayD1x01Bl",
        "outputId": "610d40f1-ad78-4d7e-9450-c03c1d668ac2"
      },
      "outputs": [
        {
          "data": {
            "text/plain": [
              "0.046886213593857244"
            ]
          },
          "execution_count": 29,
          "metadata": {},
          "output_type": "execute_result"
        }
      ],
      "source": [
        "metrics.mean_absolute_error(y_test,y_predict)"
      ]
    }
  ],
  "metadata": {
    "kernelspec": {
      "display_name": "Python 3",
      "language": "python",
      "name": "python3"
    },
    "language_info": {
      "codemirror_mode": {
        "name": "ipython",
        "version": 3
      },
      "file_extension": ".py",
      "mimetype": "text/x-python",
      "name": "python",
      "nbconvert_exporter": "python",
      "pygments_lexer": "ipython3",
      "version": "3.7.6"
    },
    "papermill": {
      "duration": 12.32014,
      "end_time": "2021-01-17T04:58:35.074421",
      "environment_variables": {},
      "exception": null,
      "input_path": "__notebook__.ipynb",
      "output_path": "__notebook__.ipynb",
      "parameters": {},
      "start_time": "2021-01-17T04:58:22.754281",
      "version": "2.1.0"
    },
    "colab": {
      "name": "graduate-admission-prediction-linearregression.ipynb",
      "provenance": []
    }
  },
  "nbformat": 4,
  "nbformat_minor": 0
}